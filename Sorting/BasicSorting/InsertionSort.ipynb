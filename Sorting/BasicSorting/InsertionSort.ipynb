{
 "cells": [
  {
   "cell_type": "markdown",
   "id": "f41098bd",
   "metadata": {},
   "source": [
    "# Insertion Sort"
   ]
  },
  {
   "cell_type": "markdown",
   "id": "f60444d4",
   "metadata": {},
   "source": [
    "### 🃏 What is Insertion Sort?\n",
    "**Simple analogy**: Like sorting playing cards in your hand - pick each card and insert it in the right position among already sorted cards.\n",
    "\n",
    "**How it works**:\n",
    "1. Start from 2nd element (assume 1st is sorted)\n",
    "2. Compare with elements to the left\n",
    "3. Shift larger elements right\n",
    "4. Insert current element in correct position\n",
    "5. Repeat for all elements\n",
    "\n",
    "**Key traits**: ⚡ **O(n) best case** | 🐌 **O(n²) worst case** | 💾 **O(1) space** | ✅ **Stable & In-place**"
   ]
  },
  {
   "cell_type": "markdown",
   "id": "da0027d2",
   "metadata": {},
   "source": [
    "#### 📋 Step-by-Step Example: [64, 34, 25, 12, 22, 11, 90]  \n",
    "#### **Initial**: [64, 34, 25, 12, 22, 11, 90]"
   ]
  },
  {
   "cell_type": "markdown",
   "id": "87464114",
   "metadata": {},
   "source": [
    "#### **Step 1**: Insert 34 in sorted portion [64]\n",
    "\n",
    "**Key = 34**, compare with 64 → 34 < 64, shift 64 right  \n",
    "[34, 64, 25, 12, 22, 11, 90] ✅ *34 inserted at position 0*"
   ]
  },
  {
   "cell_type": "markdown",
   "id": "2af29edd",
   "metadata": {},
   "source": [
    "#### **Step 2**: Insert 25 in sorted portion [34, 64]\n",
    "\n",
    "**Key = 25**, compare with 64 → shift right, compare with 34 → shift right  \n",
    "[25, 34, 64, 12, 22, 11, 90] ✅ *25 inserted at position 0*"
   ]
  },
  {
   "cell_type": "markdown",
   "id": "9f0a736d",
   "metadata": {},
   "source": [
    "#### **Step 3**: Insert 12 in sorted portion [25, 34, 64]\n",
    "\n",
    "**Key = 12**, compare with 64→34→25 → shift all right  \n",
    "[12, 25, 34, 64, 22, 11, 90] ✅ *12 inserted at position 0*"
   ]
  },
  {
   "cell_type": "markdown",
   "id": "88a5f47b",
   "metadata": {},
   "source": [
    "#### **Step 4**: Insert 22 in sorted portion [12, 25, 34, 64]\n",
    "\n",
    "**Key = 22**, compare with 64→34→25 → shift, 22 > 12 → insert between 12 and 25  \n",
    "[12, 22, 25, 34, 64, 11, 90] ✅ *22 inserted at position 1*"
   ]
  },
  {
   "cell_type": "markdown",
   "id": "37c82dc3",
   "metadata": {},
   "source": [
    "#### **Step 5**: Insert 11 in sorted portion [12, 22, 25, 34, 64]\n",
    "\n",
    "**Key = 11**, compare with all → shift all right  \n",
    "[11, 12, 22, 25, 34, 64, 90] ✅ *11 inserted at position 0*"
   ]
  },
  {
   "cell_type": "markdown",
   "id": "b5190e80",
   "metadata": {},
   "source": [
    "#### **Step 6**: Insert 90 in sorted portion [11, 12, 22, 25, 34, 64]\n",
    "\n",
    "**Key = 90**, compare with 64 → 90 > 64, no shifts needed  \n",
    "[11, 12, 22, 25, 34, 64, 90] ✅ *90 stays at the end*\n",
    "\n",
    "### **Final Sorted Array**: [**11**, **12**, **22**, **25**, **34**, **64**, **90**] 🎉"
   ]
  },
  {
   "cell_type": "markdown",
   "id": "84f997d1",
   "metadata": {},
   "source": [
    "## 📊 **Quick Complexity Guide**\n",
    "\n",
    "| Scenario | Time | Example | Why? |\n",
    "|----------|------|---------|------|\n",
    "| **Best** | **O(n)** | [1,2,3,4,5] | Already sorted, just n-1 comparisons |\n",
    "| **Worst** | **O(n²)** | [5,4,3,2,1] | Reverse sorted, maximum shifts |\n",
    "| **Average** | **O(n²)** | Random array | About half elements need shifting |\n",
    "| **Space** | **O(1)** | Any array | Only uses few variables |\n",
    "\n",
    "**🚀 When to use**: Small arrays (n < 50), nearly sorted data, online sorting (data comes one by one)"
   ]
  }
 ],
 "metadata": {
  "language_info": {
   "name": "python"
  }
 },
 "nbformat": 4,
 "nbformat_minor": 5
}
