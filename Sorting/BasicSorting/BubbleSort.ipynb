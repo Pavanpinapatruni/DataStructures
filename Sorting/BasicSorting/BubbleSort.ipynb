{
 "cells": [
  {
   "cell_type": "markdown",
   "id": "ba9fa4d2",
   "metadata": {},
   "source": [
    "# Bubble Sort"
   ]
  },
  {
   "cell_type": "markdown",
   "id": "4d9b601b",
   "metadata": {},
   "source": [
    "## What is Bubble Sort?\n",
    "\n",
    "Bubble Sort is one of the simplest sorting algorithms to understand and implement. It works by repeatedly comparing adjacent elements in the array and swapping them if they are in the wrong order.\n",
    "\n",
    "### How it works:\n",
    "1. **Compare adjacent elements**: Start from the first element and compare it with the next element\n",
    "2. **Swap if necessary**: If the first element is greater than the second (for ascending order), swap them\n",
    "3. **Continue through the array**: Move to the next pair and repeat the comparison\n",
    "4. **Complete one pass**: After one complete pass, the largest element \"bubbles up\" to its correct position at the end\n",
    "5. **Repeat**: Continue this process for n-1 passes (where n is the number of elements)\n",
    "\n",
    "### Key Characteristics:\n",
    "- **Time Complexity**: O(n²) in worst and average case, O(n) in best case (when array is already sorted)\n",
    "- **Space Complexity**: O(1) - it sorts in-place\n",
    "- **Stable**: Equal elements maintain their relative order\n",
    "- **In-place**: Requires only a constant amount of additional memory\n",
    "\n",
    "### Why is it called \"Bubble\" Sort?\n",
    "The name comes from the way smaller elements \"bubble\" to the top (beginning) of the list, while larger elements sink to the bottom (end), similar to how air bubbles rise to the surface in water."
   ]
  },
  {
   "cell_type": "markdown",
   "id": "bdfec8f4",
   "metadata": {},
   "source": [
    "### Initial Array: [64, 34, 25, 12, 22, 11, 90]"
   ]
  },
  {
   "cell_type": "markdown",
   "id": "c541e533",
   "metadata": {},
   "source": [
    "#### **Pass 1**: Push the largest element (90) to the last position\n",
    "\n",
    "**Initial**: [64, 34, 25, 12, 22, 11, 90]  \n",
    "**Step 1**: Compare 64 and 34 → Swap (64 > 34)  \n",
    "[34, 64, 25, 12, 22, 11, 90]  \n",
    "**Step 2**: Compare 64 and 25 → Swap (64 > 25)  \n",
    "[34, 25, 64, 12, 22, 11, 90]  \n",
    "**Step 3**: Compare 64 and 12 → Swap (64 > 12)  \n",
    "[34, 25, 12, 64, 22, 11, 90]  \n",
    "**Step 4**: Compare 64 and 22 → Swap (64 > 22)  \n",
    "[34, 25, 12, 22, 64, 11, 90]  \n",
    "**Step 5**: Compare 64 and 11 → Swap (64 > 11)  \n",
    "[34, 25, 12, 22, 11, 64, 90]  \n",
    "**Step 6**: Compare 64 and 90 → No swap (64 < 90)  \n",
    "[34, 25, 12, 22, 11, 64, 90]\n",
    "\n",
    "**After Pass 1**: [34, 25, 12, 22, 11, 64, **90**] ✅ *90 is in correct position*"
   ]
  },
  {
   "cell_type": "markdown",
   "id": "508bc871",
   "metadata": {},
   "source": [
    "#### **Pass 2**: Push the second largest element (64) to second-last position\n",
    "\n",
    "**Initial**: [34, 25, 12, 22, 11, 64, 90]  \n",
    "**Step 1**: Compare 34 and 25 → Swap (34 > 25)  \n",
    "[25, 34, 12, 22, 11, 64, 90]  \n",
    "**Step 2**: Compare 34 and 12 → Swap (34 > 12)  \n",
    "[25, 12, 34, 22, 11, 64, 90]  \n",
    "**Step 3**: Compare 34 and 22 → Swap (34 > 22)  \n",
    "[25, 12, 22, 34, 11, 64, 90]  \n",
    "**Step 4**: Compare 34 and 11 → Swap (34 > 11)  \n",
    "[25, 12, 22, 11, 34, 64, 90]  \n",
    "**Step 5**: Compare 34 and 64 → No swap (34 < 64)  \n",
    "[25, 12, 22, 11, 34, 64, 90]\n",
    "\n",
    "**After Pass 2**: [25, 12, 22, 11, 34, **64**, **90**] ✅ *64 is in correct position*"
   ]
  },
  {
   "cell_type": "markdown",
   "id": "b5220e91",
   "metadata": {},
   "source": [
    "#### **Pass 3**: Push the third largest element (34) to third-last position\n",
    "\n",
    "**Initial**: [25, 12, 22, 11, 34, 64, 90]  \n",
    "**Step 1**: Compare 25 and 12 → Swap (25 > 12)  \n",
    "[12, 25, 22, 11, 34, 64, 90]  \n",
    "**Step 2**: Compare 25 and 22 → Swap (25 > 22)  \n",
    "[12, 22, 25, 11, 34, 64, 90]  \n",
    "**Step 3**: Compare 25 and 11 → Swap (25 > 11)  \n",
    "[12, 22, 11, 25, 34, 64, 90]  \n",
    "**Step 4**: Compare 25 and 34 → No swap (25 < 34)  \n",
    "[12, 22, 11, 25, 34, 64, 90]\n",
    "\n",
    "**After Pass 3**: [12, 22, 11, 25, **34**, **64**, **90**] ✅ *34 is in correct position*"
   ]
  },
  {
   "cell_type": "markdown",
   "id": "3818ad01",
   "metadata": {},
   "source": [
    "#### **Pass 4**: Push the fourth largest element (25) to fourth-last position\n",
    "\n",
    "**Initial**: [12, 22, 11, 25, 34, 64, 90]  \n",
    "**Step 1**: Compare 12 and 22 → No swap (12 < 22)  \n",
    "[12, 22, 11, 25, 34, 64, 90]  \n",
    "**Step 2**: Compare 22 and 11 → Swap (22 > 11)  \n",
    "[12, 11, 22, 25, 34, 64, 90]  \n",
    "**Step 3**: Compare 22 and 25 → No swap (22 < 25)  \n",
    "[12, 11, 22, 25, 34, 64, 90]\n",
    "\n",
    "**After Pass 4**: [12, 11, 22, **25**, **34**, **64**, **90**] ✅ *25 is in correct position*"
   ]
  },
  {
   "cell_type": "markdown",
   "id": "eced3a97",
   "metadata": {},
   "source": [
    "#### **Pass 5**: Push the fifth largest element (22) to fifth-last position\n",
    "\n",
    "**Initial**: [12, 11, 22, 25, 34, 64, 90]  \n",
    "**Step 1**: Compare 12 and 11 → Swap (12 > 11)  \n",
    "[11, 12, 22, 25, 34, 64, 90]  \n",
    "**Step 2**: Compare 12 and 22 → No swap (12 < 22)  \n",
    "[11, 12, 22, 25, 34, 64, 90]\n",
    "\n",
    "**After Pass 5**: [11, 12, **22**, **25**, **34**, **64**, **90**] ✅ *22 is in correct position*"
   ]
  },
  {
   "cell_type": "markdown",
   "id": "13a71aa4",
   "metadata": {},
   "source": [
    "**Pass 6**: Final verification - Array is already sorted!  \n",
    "**Initial**: [11, 12, 22, 25, 34, 64, 90]  \n",
    "**Step 1**: Compare 11 and 12 → No swap (11 < 12)  \n",
    "[11, 12, 22, 25, 34, 64, 90]\n",
    "\n",
    "**After Pass 6**: [**11**, **12**, **22**, **25**, **34**, **64**, **90**] ✅ *Array is completely sorted!*"
   ]
  },
  {
   "cell_type": "markdown",
   "id": "fb26a6fd",
   "metadata": {},
   "source": [
    "### **⚡ Optimization Tips**\n",
    "\n",
    "1. **Early Termination**: If no swaps occur in a pass, the array is already sorted!\n",
    "2. **Reduced Comparisons**: After each pass, ignore the last sorted elements\n",
    "3. **Best Case**: O(n) when array is already sorted (with optimization)\n",
    "4. **Worst Case**: O(n²) when array is reverse sorted\n",
    "\n",
    "### **🎮 Practice Challenge**\n",
    "\n",
    "Try bubble sort with different arrays:\n",
    "- **Already sorted**: [1, 2, 3, 4, 5] → How many passes?\n",
    "- **Reverse sorted**: [5, 4, 3, 2, 1] → Maximum swaps!\n",
    "- **Nearly sorted**: [1, 3, 2, 4, 5] → Minimal work needed"
   ]
  },
  {
   "cell_type": "markdown",
   "id": "2ba5eba7",
   "metadata": {},
   "source": [
    "### **📊 Time Complexity Analysis**\n",
    "\n",
    "Let's break down bubble sort's time complexity in detail:\n",
    "\n",
    "#### **🔄 Best Case: O(n) - Already Sorted Array**\n",
    "- **Example**: [1, 2, 3, 4, 5]\n",
    "- **What happens**: Only 1 pass needed with no swaps\n",
    "- **Comparisons**: n-1 comparisons in first pass\n",
    "- **Swaps**: 0 swaps\n",
    "- **Condition**: Array is already sorted + optimization flag used\n",
    "\n",
    "#### **⚠️ Worst Case: O(n²) - Reverse Sorted Array**\n",
    "- **Example**: [5, 4, 3, 2, 1] \n",
    "- **What happens**: Maximum swaps in every pass\n",
    "- **Comparisons**: (n-1) + (n-2) + (n-3) + ... + 1 = **n(n-1)/2**\n",
    "- **Swaps**: Same as comparisons = **n(n-1)/2**\n",
    "- **For n=5**: 4+3+2+1 = **10 comparisons**\n",
    "\n",
    "#### **📈 Average Case: O(n²)**\n",
    "- **Random array**: Elements in random order\n",
    "- **Expected swaps**: About half of all possible comparisons\n",
    "- **Performance**: Similar to worst case for large datasets\n",
    "\n",
    "#### **🧮 Mathematical Breakdown**\n",
    "```\n",
    "For array of size n:\n",
    "• Number of passes: n-1 (maximum)\n",
    "• Pass 1: n-1 comparisons\n",
    "• Pass 2: n-2 comparisons  \n",
    "• Pass 3: n-3 comparisons\n",
    "• ...\n",
    "• Pass n-1: 1 comparison\n",
    "\n",
    "Total = Σ(i=1 to n-1) i = n(n-1)/2 = O(n²)\n",
    "```\n",
    "\n",
    "#### **💾 Space Complexity: O(1)**\n",
    "- **Constant extra space**: Only uses a few variables (temp for swapping, flags)\n",
    "- **In-place sorting**: Sorts within the original array\n",
    "- **No additional data structures**: No extra arrays or recursion stack\n",
    "\n",
    "#### **📊 Comparison with Other Algorithms**\n",
    "| Algorithm | Best Case | Average Case | Worst Case | Space |\n",
    "|-----------|-----------|--------------|------------|-------|\n",
    "| Bubble Sort | O(n) | O(n²) | O(n²) | O(1) |\n",
    "| Quick Sort | O(n log n) | O(n log n) | O(n²) | O(log n) |\n",
    "| Merge Sort | O(n log n) | O(n log n) | O(n log n) | O(n) |\n",
    "| Selection Sort | O(n²) | O(n²) | O(n²) | O(1) |"
   ]
  }
 ],
 "metadata": {
  "language_info": {
   "name": "python"
  }
 },
 "nbformat": 4,
 "nbformat_minor": 5
}
